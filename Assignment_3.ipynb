{
 "cells": [
  {
   "cell_type": "markdown",
   "metadata": {},
   "source": [
    "# Homework 3: Build a CNN for Image Recognition\n",
    "\n",
    "### Name: Ravi Patel | CWID: 10432313 | Date: 3/26/2019"
   ]
  },
  {
   "cell_type": "markdown",
   "metadata": {},
   "source": [
    "## 1. Data Prep"
   ]
  },
  {
   "cell_type": "markdown",
   "metadata": {},
   "source": [
    "#### Load Data"
   ]
  },
  {
   "cell_type": "code",
   "execution_count": 1,
   "metadata": {},
   "outputs": [
    {
     "name": "stderr",
     "output_type": "stream",
     "text": [
      "Using TensorFlow backend.\n"
     ]
    },
    {
     "name": "stdout",
     "output_type": "stream",
     "text": [
      "Shape of x_train: (50000, 32, 32, 3)\n",
      "Shape of y_train: (50000, 1)\n",
      "Shape of x_test: (10000, 32, 32, 3)\n",
      "Shape of y_test: (10000, 1)\n"
     ]
    }
   ],
   "source": [
    "from keras.datasets import cifar10\n",
    "import numpy as np\n",
    "\n",
    "(x_train, y_train) , (x_test, y_test) = cifar10.load_data()\n",
    "\n",
    "#Examine the data shape\n",
    "print('Shape of x_train: ' + str(x_train.shape))\n",
    "print('Shape of y_train: ' + str(y_train.shape))\n",
    "print('Shape of x_test: ' + str(x_test.shape))\n",
    "print('Shape of y_test: ' + str(y_test.shape))\n"
   ]
  },
  {
   "cell_type": "markdown",
   "metadata": {},
   "source": [
    "#### Create Method for One_Hot Encoding"
   ]
  },
  {
   "cell_type": "code",
   "execution_count": 3,
   "metadata": {},
   "outputs": [],
   "source": [
    "def to_one_hot(y, num_class=10):\n",
    "    \"\"\"\n",
    "        transforms an n x 1 array to a n x 10 matrix\n",
    "    \"\"\"\n",
    "    result = np.zeros(shape=(y.shape[0],num_class))\n",
    "    for i in range(y.shape[0]):\n",
    "        result[i][y[i]]=1 \n",
    "    return result\n",
    "\n",
    "\n",
    "y_train_vec = to_one_hot(y_train)\n",
    "y_test_vec = to_one_hot(y_test)\n",
    "\n",
    "#print(y_train[0])\n",
    "#print(y_train_vec[0])"
   ]
  },
  {
   "cell_type": "code",
   "execution_count": 4,
   "metadata": {},
   "outputs": [],
   "source": [
    "# Randomly partition athe training set to training \n",
    "# and validation sets\n",
    "\n",
    "rand_indices = np.random.permutation(50000)\n",
    "train_indices = rand_indices[0:40000]\n",
    "valid_indices = rand_indices[40000:50000]\n",
    "\n",
    "x_val = x_train[valid_indices, :]\n",
    "y_val = y_train_vec[valid_indices, :]\n",
    "\n",
    "x_tr = x_train[train_indices, :]\n",
    "y_tr = y_train_vec[train_indices, :]"
   ]
  },
  {
   "cell_type": "markdown",
   "metadata": {},
   "source": [
    "## 2. Build a CNN and tune its hyper-params"
   ]
  },
  {
   "cell_type": "code",
   "execution_count": 5,
   "metadata": {},
   "outputs": [
    {
     "name": "stdout",
     "output_type": "stream",
     "text": [
      "_________________________________________________________________\n",
      "Layer (type)                 Output Shape              Param #   \n",
      "=================================================================\n",
      "conv2d_1 (Conv2D)            (None, 32, 32, 32)        896       \n",
      "_________________________________________________________________\n",
      "batch_normalization_1 (Batch (None, 32, 32, 32)        128       \n",
      "_________________________________________________________________\n",
      "conv2d_2 (Conv2D)            (None, 30, 30, 32)        9248      \n",
      "_________________________________________________________________\n",
      "batch_normalization_2 (Batch (None, 30, 30, 32)        128       \n",
      "_________________________________________________________________\n",
      "max_pooling2d_1 (MaxPooling2 (None, 15, 15, 32)        0         \n",
      "_________________________________________________________________\n",
      "dropout_1 (Dropout)          (None, 15, 15, 32)        0         \n",
      "_________________________________________________________________\n",
      "conv2d_3 (Conv2D)            (None, 15, 15, 64)        18496     \n",
      "_________________________________________________________________\n",
      "batch_normalization_3 (Batch (None, 15, 15, 64)        256       \n",
      "_________________________________________________________________\n",
      "conv2d_4 (Conv2D)            (None, 13, 13, 64)        36928     \n",
      "_________________________________________________________________\n",
      "batch_normalization_4 (Batch (None, 13, 13, 64)        256       \n",
      "_________________________________________________________________\n",
      "max_pooling2d_2 (MaxPooling2 (None, 6, 6, 64)          0         \n",
      "_________________________________________________________________\n",
      "dropout_2 (Dropout)          (None, 6, 6, 64)          0         \n",
      "_________________________________________________________________\n",
      "conv2d_5 (Conv2D)            (None, 6, 6, 128)         73856     \n",
      "_________________________________________________________________\n",
      "batch_normalization_5 (Batch (None, 6, 6, 128)         512       \n",
      "_________________________________________________________________\n",
      "conv2d_6 (Conv2D)            (None, 4, 4, 128)         147584    \n",
      "_________________________________________________________________\n",
      "batch_normalization_6 (Batch (None, 4, 4, 128)         512       \n",
      "_________________________________________________________________\n",
      "max_pooling2d_3 (MaxPooling2 (None, 2, 2, 128)         0         \n",
      "_________________________________________________________________\n",
      "dropout_3 (Dropout)          (None, 2, 2, 128)         0         \n",
      "_________________________________________________________________\n",
      "flatten_1 (Flatten)          (None, 512)               0         \n",
      "_________________________________________________________________\n",
      "dense_1 (Dense)              (None, 512)               262656    \n",
      "_________________________________________________________________\n",
      "dense_2 (Dense)              (None, 10)                5130      \n",
      "=================================================================\n",
      "Total params: 556,586\n",
      "Trainable params: 555,690\n",
      "Non-trainable params: 896\n",
      "_________________________________________________________________\n"
     ]
    }
   ],
   "source": [
    "from keras.layers import Conv2D, MaxPooling2D, Flatten, Dense, Dropout, BatchNormalization\n",
    "from keras.models import Sequential\n",
    "\n",
    "model = Sequential()\n",
    "model.add(Conv2D(32, (3,3), activation='relu', padding='same', input_shape=(32,32,3)))\n",
    "model.add(BatchNormalization())\n",
    "\n",
    "model.add(Conv2D(32, (3,3), activation='relu'))\n",
    "model.add(BatchNormalization())\n",
    "model.add(MaxPooling2D((2,2)))\n",
    "model.add(Dropout(0.25))\n",
    "\n",
    "model.add(Conv2D(64, (3,3), activation='relu', padding='same'))\n",
    "model.add(BatchNormalization())\n",
    "\n",
    "model.add(Conv2D(64, (3,3), activation='relu'))\n",
    "model.add(BatchNormalization())\n",
    "model.add(MaxPooling2D((2,2)))\n",
    "model.add(Dropout(0.25))\n",
    "\n",
    "model.add(Conv2D(128, (3,3), activation='relu', padding='same'))\n",
    "model.add(BatchNormalization())\n",
    "\n",
    "model.add(Conv2D(128, (3,3), activation='relu'))\n",
    "model.add(BatchNormalization())\n",
    "model.add(MaxPooling2D((2,2)))\n",
    "model.add(Dropout(0.25))\n",
    "\n",
    "\n",
    "model.add(Flatten())\n",
    "\n",
    "model.add(Dense(512, activation='relu'))\n",
    "#model.add(Dropout(0.5))\n",
    "model.add(Dense(10,activation='softmax'))\n",
    "\n",
    "model.summary()"
   ]
  },
  {
   "cell_type": "code",
   "execution_count": 6,
   "metadata": {},
   "outputs": [],
   "source": [
    "from keras import optimizers\n",
    "\n",
    "learning_rate = 1E-4\n",
    "\n",
    "model.compile(loss='categorical_crossentropy',\n",
    "              optimizer=optimizers.Adamax(lr=learning_rate),\n",
    "              metrics=['acc']\n",
    "             )"
   ]
  },
  {
   "cell_type": "markdown",
   "metadata": {},
   "source": [
    "## 3. Training the model with partial training data"
   ]
  },
  {
   "cell_type": "code",
   "execution_count": 7,
   "metadata": {
    "scrolled": true
   },
   "outputs": [
    {
     "name": "stdout",
     "output_type": "stream",
     "text": [
      "Train on 40000 samples, validate on 10000 samples\n",
      "Epoch 1/30\n",
      "40000/40000 [==============================] - 853s 21ms/step - loss: 2.0603 - acc: 0.2847 - val_loss: 1.6086 - val_acc: 0.4053\n",
      "Epoch 2/30\n",
      "40000/40000 [==============================] - 846s 21ms/step - loss: 1.6704 - acc: 0.3961 - val_loss: 1.4508 - val_acc: 0.4681\n",
      "Epoch 3/30\n",
      "40000/40000 [==============================] - 829s 21ms/step - loss: 1.4970 - acc: 0.4616 - val_loss: 1.3799 - val_acc: 0.4991\n",
      "Epoch 4/30\n",
      "40000/40000 [==============================] - 814s 20ms/step - loss: 1.3995 - acc: 0.4970 - val_loss: 1.3126 - val_acc: 0.5244\n",
      "Epoch 5/30\n",
      "40000/40000 [==============================] - 811s 20ms/step - loss: 1.3139 - acc: 0.5286 - val_loss: 1.2236 - val_acc: 0.5597\n",
      "Epoch 6/30\n",
      "40000/40000 [==============================] - 812s 20ms/step - loss: 1.2416 - acc: 0.5575 - val_loss: 1.1773 - val_acc: 0.5780\n",
      "Epoch 7/30\n",
      "40000/40000 [==============================] - 1184s 30ms/step - loss: 1.1798 - acc: 0.5777 - val_loss: 1.1457 - val_acc: 0.5931\n",
      "Epoch 8/30\n",
      "40000/40000 [==============================] - 1203s 30ms/step - loss: 1.1310 - acc: 0.5964 - val_loss: 1.1226 - val_acc: 0.6037\n",
      "Epoch 9/30\n",
      "40000/40000 [==============================] - 1203s 30ms/step - loss: 1.0922 - acc: 0.6119 - val_loss: 1.0714 - val_acc: 0.6208\n",
      "Epoch 10/30\n",
      "40000/40000 [==============================] - 959s 24ms/step - loss: 1.0485 - acc: 0.6260 - val_loss: 1.0412 - val_acc: 0.6352\n",
      "Epoch 11/30\n",
      "40000/40000 [==============================] - 957s 24ms/step - loss: 1.0207 - acc: 0.6367 - val_loss: 1.0312 - val_acc: 0.6404\n",
      "Epoch 12/30\n",
      "40000/40000 [==============================] - 1277s 32ms/step - loss: 0.9836 - acc: 0.6490 - val_loss: 0.9915 - val_acc: 0.6555\n",
      "Epoch 13/30\n",
      "40000/40000 [==============================] - 1106s 28ms/step - loss: 0.9544 - acc: 0.6629 - val_loss: 0.9227 - val_acc: 0.6767\n",
      "Epoch 14/30\n",
      "40000/40000 [==============================] - 129618s 3s/step - loss: 0.9344 - acc: 0.6700 - val_loss: 0.9187 - val_acc: 0.6807\n",
      "Epoch 15/30\n",
      "40000/40000 [==============================] - 853s 21ms/step - loss: 0.9054 - acc: 0.6786 - val_loss: 0.9145 - val_acc: 0.6825\n",
      "Epoch 16/30\n",
      "40000/40000 [==============================] - 836s 21ms/step - loss: 0.8839 - acc: 0.6872 - val_loss: 0.8787 - val_acc: 0.6982\n",
      "Epoch 17/30\n",
      "40000/40000 [==============================] - 842s 21ms/step - loss: 0.8626 - acc: 0.6944 - val_loss: 0.8580 - val_acc: 0.7004\n",
      "Epoch 18/30\n",
      "40000/40000 [==============================] - 826s 21ms/step - loss: 0.8370 - acc: 0.7055 - val_loss: 0.8421 - val_acc: 0.7071\n",
      "Epoch 19/30\n",
      "40000/40000 [==============================] - 1075s 27ms/step - loss: 0.8174 - acc: 0.7128 - val_loss: 0.8247 - val_acc: 0.7155\n",
      "Epoch 20/30\n",
      "40000/40000 [==============================] - 2800s 70ms/step - loss: 0.8041 - acc: 0.7178 - val_loss: 0.8264 - val_acc: 0.7131\n",
      "Epoch 21/30\n",
      "40000/40000 [==============================] - 1198s 30ms/step - loss: 0.7833 - acc: 0.7232 - val_loss: 0.8015 - val_acc: 0.7217\n",
      "Epoch 22/30\n",
      "40000/40000 [==============================] - 1403s 35ms/step - loss: 0.7630 - acc: 0.7288 - val_loss: 0.7831 - val_acc: 0.7280\n",
      "Epoch 23/30\n",
      "40000/40000 [==============================] - 833s 21ms/step - loss: 0.7467 - acc: 0.7368 - val_loss: 0.7529 - val_acc: 0.7388\n",
      "Epoch 24/30\n",
      "40000/40000 [==============================] - 822s 21ms/step - loss: 0.7274 - acc: 0.7433 - val_loss: 0.7437 - val_acc: 0.7421\n",
      "Epoch 25/30\n",
      "40000/40000 [==============================] - 819s 20ms/step - loss: 0.7184 - acc: 0.7467 - val_loss: 0.7469 - val_acc: 0.7434\n",
      "Epoch 26/30\n",
      "40000/40000 [==============================] - 817s 20ms/step - loss: 0.7037 - acc: 0.7525 - val_loss: 0.7378 - val_acc: 0.7482\n",
      "Epoch 27/30\n",
      "40000/40000 [==============================] - 815s 20ms/step - loss: 0.6910 - acc: 0.7560 - val_loss: 0.7063 - val_acc: 0.7562\n",
      "Epoch 28/30\n",
      "40000/40000 [==============================] - 821s 21ms/step - loss: 0.6770 - acc: 0.7611 - val_loss: 0.7343 - val_acc: 0.7469\n",
      "Epoch 29/30\n",
      "40000/40000 [==============================] - 815s 20ms/step - loss: 0.6683 - acc: 0.7650 - val_loss: 0.7203 - val_acc: 0.7521\n",
      "Epoch 30/30\n",
      "40000/40000 [==============================] - 1041s 26ms/step - loss: 0.6523 - acc: 0.7705 - val_loss: 0.7370 - val_acc: 0.7491\n"
     ]
    }
   ],
   "source": [
    "history = model.fit(x_tr, y_tr, batch_size=32, epochs=30, validation_data=(x_val, y_val))"
   ]
  },
  {
   "cell_type": "code",
   "execution_count": 8,
   "metadata": {},
   "outputs": [
    {
     "data": {
      "image/png": "[encoded data removed]",
      "text/plain": [
       "<Figure size 432x288 with 1 Axes>"
      ]
     },
     "metadata": {
      "needs_background": "light"
     },
     "output_type": "display_data"
    }
   ],
   "source": [
    "import matplotlib.pyplot as plt\n",
    "%matplotlib inline\n",
    "\n",
    "acc = history.history['acc']\n",
    "val_acc = history.history['val_acc']\n",
    "\n",
    "epochs = range(len(acc))\n",
    "\n",
    "plt.plot(epochs, acc, 'bo', label='Training acc')\n",
    "plt.plot(epochs, val_acc, 'r', label='Validation acc')\n",
    "plt.xlabel('Epochs')\n",
    "plt.ylabel('Accuracy')\n",
    "plt.legend()\n",
    "plt.show()"
   ]
  },
  {
   "cell_type": "markdown",
   "metadata": {},
   "source": [
    "## 4. Training the model with the full training data"
   ]
  },
  {
   "cell_type": "code",
   "execution_count": 9,
   "metadata": {},
   "outputs": [
    {
     "name": "stdout",
     "output_type": "stream",
     "text": [
      "Epoch 1/30\n",
      "50000/50000 [==============================] - 1383s 28ms/step - loss: 0.6743 - acc: 0.7612\n",
      "Epoch 2/30\n",
      "50000/50000 [==============================] - 1397s 28ms/step - loss: 0.6609 - acc: 0.7700\n",
      "Epoch 3/30\n",
      "50000/50000 [==============================] - 1129s 23ms/step - loss: 0.6470 - acc: 0.7734\n",
      "Epoch 4/30\n",
      "50000/50000 [==============================] - 989s 20ms/step - loss: 0.6331 - acc: 0.7770\n",
      "Epoch 5/30\n",
      "50000/50000 [==============================] - 1006s 20ms/step - loss: 0.6236 - acc: 0.7818\n",
      "Epoch 6/30\n",
      "50000/50000 [==============================] - 964s 19ms/step - loss: 0.6144 - acc: 0.7850\n",
      "Epoch 7/30\n",
      "50000/50000 [==============================] - 969s 19ms/step - loss: 0.5942 - acc: 0.7909\n",
      "Epoch 8/30\n",
      "50000/50000 [==============================] - 1235s 25ms/step - loss: 0.5874 - acc: 0.7923\n",
      "Epoch 9/30\n",
      "50000/50000 [==============================] - 3637s 73ms/step - loss: 0.5763 - acc: 0.7981\n",
      "Epoch 10/30\n",
      "50000/50000 [==============================] - 1410s 28ms/step - loss: 0.5714 - acc: 0.7981\n",
      "Epoch 11/30\n",
      "50000/50000 [==============================] - 6766s 135ms/step - loss: 0.5591 - acc: 0.8033\n",
      "Epoch 12/30\n",
      "50000/50000 [==============================] - 969s 19ms/step - loss: 0.5505 - acc: 0.8043\n",
      "Epoch 13/30\n",
      "50000/50000 [==============================] - 3188s 64ms/step - loss: 0.5388 - acc: 0.8120\n",
      "Epoch 14/30\n",
      "50000/50000 [==============================] - 82090s 2s/step - loss: 0.5262 - acc: 0.8159\n",
      "Epoch 15/30\n",
      "50000/50000 [==============================] - 1214s 24ms/step - loss: 0.5249 - acc: 0.8150\n",
      "Epoch 16/30\n",
      "50000/50000 [==============================] - 1003s 20ms/step - loss: 0.5168 - acc: 0.8198\n",
      "Epoch 17/30\n",
      "50000/50000 [==============================] - 1017s 20ms/step - loss: 0.5104 - acc: 0.8210\n",
      "Epoch 18/30\n",
      "50000/50000 [==============================] - 50768s 1s/step - loss: 0.5029 - acc: 0.8213\n",
      "Epoch 19/30\n",
      "50000/50000 [==============================] - 1043s 21ms/step - loss: 0.4928 - acc: 0.8256\n",
      "Epoch 20/30\n",
      "50000/50000 [==============================] - 1048s 21ms/step - loss: 0.4846 - acc: 0.8302\n",
      "Epoch 21/30\n",
      "50000/50000 [==============================] - 970s 19ms/step - loss: 0.4746 - acc: 0.8324\n",
      "Epoch 22/30\n",
      "50000/50000 [==============================] - 960s 19ms/step - loss: 0.4708 - acc: 0.8346\n",
      "Epoch 23/30\n",
      "50000/50000 [==============================] - 1060s 21ms/step - loss: 0.4603 - acc: 0.8369\n",
      "Epoch 24/30\n",
      "50000/50000 [==============================] - 3805s 76ms/step - loss: 0.4549 - acc: 0.8390\n",
      "Epoch 25/30\n",
      "50000/50000 [==============================] - 1397s 28ms/step - loss: 0.4473 - acc: 0.8426\n",
      "Epoch 26/30\n",
      "50000/50000 [==============================] - 112932s 2s/step - loss: 0.4400 - acc: 0.8457\n",
      "Epoch 27/30\n",
      "50000/50000 [==============================] - 1326s 27ms/step - loss: 0.4399 - acc: 0.8450\n",
      "Epoch 28/30\n",
      "50000/50000 [==============================] - 1345s 27ms/step - loss: 0.4311 - acc: 0.8469\n",
      "Epoch 29/30\n",
      "50000/50000 [==============================] - 1292s 26ms/step - loss: 0.4243 - acc: 0.8497\n",
      "Epoch 30/30\n",
      "50000/50000 [==============================] - 1180s 24ms/step - loss: 0.4197 - acc: 0.8515\n"
     ]
    }
   ],
   "source": [
    "history = model.fit(x_train, y_train_vec, batch_size=32, epochs=30)\n"
   ]
  },
  {
   "cell_type": "markdown",
   "metadata": {},
   "source": [
    "## 5. Evaluating the model with the test dataset"
   ]
  },
  {
   "cell_type": "code",
   "execution_count": 10,
   "metadata": {},
   "outputs": [
    {
     "name": "stdout",
     "output_type": "stream",
     "text": [
      "10000/10000 [==============================] - 62s 6ms/step\n",
      "Loss: 0.5656601219415665\n",
      "Accuracy: 0.8102\n"
     ]
    }
   ],
   "source": [
    "scores = model.evaluate(x_test, y_test_vec)\n",
    "print(\"Loss: \"+str(scores[0]))\n",
    "print(\"Accuracy: \"+str(scores[1]))"
   ]
  }
 ],
 "metadata": {
  "kernelspec": {
   "display_name": "Python 3",
   "language": "python",
   "name": "python3"
  },
  "language_info": {
   "codemirror_mode": {
    "name": "ipython",
    "version": 3
   },
   "file_extension": ".py",
   "mimetype": "text/x-python",
   "name": "python",
   "nbconvert_exporter": "python",
   "pygments_lexer": "ipython3",
   "version": "3.6.7"
  }
 },
 "nbformat": 4,
 "nbformat_minor": 2
}
